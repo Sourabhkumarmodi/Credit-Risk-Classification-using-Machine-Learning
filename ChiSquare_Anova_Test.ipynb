{
 "cells": [
  {
   "cell_type": "markdown",
   "id": "7e2ae3c0",
   "metadata": {},
   "source": [
    "## ChiSquare"
   ]
  },
  {
   "cell_type": "markdown",
   "id": "674856b9",
   "metadata": {},
   "source": [
    "#ChiSquare test\n",
    "\n",
    "Whenever you are trying to understand a concept, please take very easy examples first."
   ]
  },
  {
   "cell_type": "code",
   "execution_count": 1,
   "id": "b42862a8",
   "metadata": {},
   "outputs": [],
   "source": [
    "from scipy.stats import chi2_contingency\n",
    "import pandas as pd"
   ]
  },
  {
   "cell_type": "code",
   "execution_count": 2,
   "id": "24796726",
   "metadata": {},
   "outputs": [],
   "source": [
    "#strong association\n",
    "\n",
    "a=['cat','cat','cat','cat','mouse','mouse','mouse','mouse','elephant','elephant','elephant','elephant']\n",
    "b=['p1','p1','p1','p1','p2','p2','p2','p2','p3','p3','p3','p3'] \n",
    "\n",
    "df = pd.DataFrame({'a':a,'b':b})"
   ]
  },
  {
   "cell_type": "code",
   "execution_count": 6,
   "id": "a7d044d7",
   "metadata": {},
   "outputs": [
    {
     "name": "stdout",
     "output_type": "stream",
     "text": [
      "7.987476059326657e-05\n"
     ]
    }
   ],
   "source": [
    "chi2,pval, _, _ =chi2_contingency(pd.crosstab(df['a'],df['b']))\n",
    "print(pval)"
   ]
  },
  {
   "cell_type": "markdown",
   "id": "8cb10617",
   "metadata": {},
   "source": [
    "0.00000000000079<= 0.05\n",
    "pval <= alpha\n",
    "H0 reject\n",
    "H1 accept\n",
    "so we can say col A and col B are associated"
   ]
  },
  {
   "cell_type": "code",
   "execution_count": 7,
   "id": "17526f3a",
   "metadata": {},
   "outputs": [],
   "source": [
    "#weak association\n",
    "c=['cat','cat','cat','cat','mouse','mouse','mouse','mouse','elephant','elephant','elephant','elephant']\n",
    "d=['p1','p2','p3','p1','p2','p1','p2','p3','p4','p1','p2','p3'] \n",
    "df_t = pd.DataFrame({'c':c,'d':d})"
   ]
  },
  {
   "cell_type": "code",
   "execution_count": 9,
   "id": "4dee80e5",
   "metadata": {},
   "outputs": [
    {
     "name": "stdout",
     "output_type": "stream",
     "text": [
      "0.8088468305380581\n"
     ]
    }
   ],
   "source": [
    "chi2,pval, _, _ =chi2_contingency(pd.crosstab(df_t['c'],df_t['d']))\n",
    "print(pval)"
   ]
  },
  {
   "cell_type": "code",
   "execution_count": null,
   "id": "78ffb5db",
   "metadata": {},
   "outputs": [],
   "source": [
    "0.80> 0.05\n",
    "pval > alpha\n",
    "H0 Fail to reject\n",
    "H0 Accepted\n",
    "so we can say col A and col B are not associated"
   ]
  },
  {
   "cell_type": "markdown",
   "id": "3c861f9d",
   "metadata": {},
   "source": [
    "# **ANOVA**"
   ]
  },
  {
   "cell_type": "code",
   "execution_count": 10,
   "id": "46450ae7",
   "metadata": {},
   "outputs": [],
   "source": [
    "from scipy.stats import f_oneway\n",
    "\n",
    "# Strong Association\n",
    "a = [10, 10, 11, 20, 20, 20, 30, 30, 30]\n",
    "b = ['p1', 'p1', 'p1', 'p2', 'p2', 'p2', 'p3', 'p3', 'p3']"
   ]
  },
  {
   "cell_type": "code",
   "execution_count": 12,
   "id": "25b4798d",
   "metadata": {},
   "outputs": [],
   "source": [
    "group_p1 = [value for value, group in zip(a,b) if group == 'p1']\n",
    "group_p2 = [value for value, group in zip(a,b) if group == 'p2']\n",
    "group_p3 = [value for value, group in zip(a,b) if group == 'p3']"
   ]
  },
  {
   "cell_type": "code",
   "execution_count": 13,
   "id": "ce4811f0",
   "metadata": {},
   "outputs": [
    {
     "name": "stdout",
     "output_type": "stream",
     "text": [
      "P_Value :  1.511635262873079e-09\n"
     ]
    }
   ],
   "source": [
    "f_statistic, p_value = f_oneway(group_p1,group_p2,group_p3)\n",
    "print(\"P_Value : \", p_value)"
   ]
  },
  {
   "cell_type": "code",
   "execution_count": 15,
   "id": "8a4fce13",
   "metadata": {},
   "outputs": [
    {
     "name": "stdout",
     "output_type": "stream",
     "text": [
      "P_Value :  0.7094742660849308\n"
     ]
    }
   ],
   "source": [
    "from scipy.stats import f_oneway\n",
    "\n",
    "# Weak Association\n",
    "a = [10, 10, 15, 10, 10, 15, 10, 10, 25]\n",
    "b = ['p1', 'p1', 'p1', 'p2', 'p2', 'p2', 'p3', 'p3', 'p3']\n",
    "\n",
    "group_p1 = [value for value, group in zip(a,b) if group == 'p1']\n",
    "group_p2 = [value for value, group in zip(a,b) if group == 'p2']\n",
    "group_p3 = [value for value, group in zip(a,b) if group == 'p3']\n",
    "f_statistic, p_value = f_oneway(group_p1,group_p2,group_p3)\n",
    "print(\"P_Value : \", p_value)"
   ]
  },
  {
   "cell_type": "code",
   "execution_count": null,
   "id": "87df82a0",
   "metadata": {},
   "outputs": [],
   "source": []
  }
 ],
 "metadata": {
  "kernelspec": {
   "display_name": "Python 3 (ipykernel)",
   "language": "python",
   "name": "python3"
  },
  "language_info": {
   "codemirror_mode": {
    "name": "ipython",
    "version": 3
   },
   "file_extension": ".py",
   "mimetype": "text/x-python",
   "name": "python",
   "nbconvert_exporter": "python",
   "pygments_lexer": "ipython3",
   "version": "3.9.13"
  }
 },
 "nbformat": 4,
 "nbformat_minor": 5
}
